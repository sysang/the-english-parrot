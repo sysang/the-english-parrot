{
 "cells": [
  {
   "cell_type": "code",
   "execution_count": 23,
   "metadata": {},
   "outputs": [],
   "source": [
    "%run -i workspace/rasaHQ/the-english-parrot/actions/utils.py"
   ]
  },
  {
   "cell_type": "code",
   "execution_count": 24,
   "metadata": {},
   "outputs": [
    {
     "name": "stdout",
     "output_type": "stream",
     "text": [
      "slots{\"lesson_progress\": 0.5761540986131877}\n"
     ]
    }
   ],
   "source": [
    "print_float_slot(\"lesson_progress\", \"did carlos buy an old car\")"
   ]
  },
  {
   "cell_type": "code",
   "execution_count": 25,
   "metadata": {},
   "outputs": [
    {
     "name": "stdout",
     "output_type": "stream",
     "text": [
      "slots{\"lesson_progress\": 0.22335615404881537}\n"
     ]
    }
   ],
   "source": [
    "print_float_slot(\"lesson_progress\", \"did carlos buy an expensive bicycle\")"
   ]
  },
  {
   "cell_type": "code",
   "execution_count": 26,
   "metadata": {},
   "outputs": [
    {
     "name": "stdout",
     "output_type": "stream",
     "text": [
      "slots{\"lesson_progress\": 0.18178618815727532}\n"
     ]
    }
   ],
   "source": [
    "print_float_slot(\"lesson_progress\", \"how big is the car\")"
   ]
  },
  {
   "cell_type": "code",
   "execution_count": 27,
   "metadata": {},
   "outputs": [
    {
     "name": "stdout",
     "output_type": "stream",
     "text": [
      "slots{\"lesson_progress\": 0.19618684938177466}\n"
     ]
    }
   ],
   "source": [
    "print_float_slot(\"lesson_progress\", \"what color was the car\")"
   ]
  },
  {
   "cell_type": "code",
   "execution_count": 28,
   "metadata": {},
   "outputs": [
    {
     "name": "stdout",
     "output_type": "stream",
     "text": [
      "slots{\"lesson_progress\": 0.2911441989708692}\n"
     ]
    }
   ],
   "source": [
    "print_float_slot(\"lesson_progress\", \"while driving down the street. what did he see\")"
   ]
  },
  {
   "cell_type": "code",
   "execution_count": 29,
   "metadata": {},
   "outputs": [
    {
     "name": "stdout",
     "output_type": "stream",
     "text": [
      "slots{\"lesson_progress\": 0.19111480936408043}\n"
     ]
    }
   ],
   "source": [
    "print_float_slot(\"lesson_progress\", \"did she look beautiful\")"
   ]
  },
  {
   "cell_type": "code",
   "execution_count": null,
   "metadata": {},
   "outputs": [],
   "source": []
  }
 ],
 "metadata": {
  "kernelspec": {
   "display_name": "Python 3",
   "language": "python",
   "name": "python3"
  },
  "language_info": {
   "codemirror_mode": {
    "name": "ipython",
    "version": 3
   },
   "file_extension": ".py",
   "mimetype": "text/x-python",
   "name": "python",
   "nbconvert_exporter": "python",
   "pygments_lexer": "ipython3",
   "version": "3.7.5"
  }
 },
 "nbformat": 4,
 "nbformat_minor": 4
}
