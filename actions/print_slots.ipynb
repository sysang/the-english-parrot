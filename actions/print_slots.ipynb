{
 "cells": [
  {
   "cell_type": "code",
   "execution_count": 22,
   "metadata": {},
   "outputs": [],
   "source": [
    "%run -i workspace/rasaHQ/the-english-parrot/actions/utils.py"
   ]
  },
  {
   "cell_type": "code",
   "execution_count": 23,
   "metadata": {},
   "outputs": [
    {
     "name": "stdout",
     "output_type": "stream",
     "text": [
      "slot{\"lesson_progress\": 37758.83500671387}\n"
     ]
    }
   ],
   "source": [
    "print_float_slot(\"lesson_progress\", \"did carlos buy an old car\")"
   ]
  },
  {
   "cell_type": "code",
   "execution_count": 24,
   "metadata": {},
   "outputs": [
    {
     "name": "stdout",
     "output_type": "stream",
     "text": [
      "slot{\"lesson_progress\": 14637.868911743164}\n"
     ]
    }
   ],
   "source": [
    "print_float_slot(\"lesson_progress\", \"did carlos buy an expensive bicycle\")"
   ]
  },
  {
   "cell_type": "code",
   "execution_count": 25,
   "metadata": {},
   "outputs": [
    {
     "name": "stdout",
     "output_type": "stream",
     "text": [
      "slot{\"lesson_progress\": 11913.539627075195}\n"
     ]
    }
   ],
   "source": [
    "print_float_slot(\"lesson_progress\", \"how big is the car\")"
   ]
  },
  {
   "cell_type": "code",
   "execution_count": 26,
   "metadata": {},
   "outputs": [
    {
     "name": "stdout",
     "output_type": "stream",
     "text": [
      "slot{\"lesson_progress\": 12857.301361083984}\n"
     ]
    }
   ],
   "source": [
    "print_float_slot(\"lesson_progress\", \"what color was the car\")"
   ]
  },
  {
   "cell_type": "code",
   "execution_count": 27,
   "metadata": {},
   "outputs": [
    {
     "name": "stdout",
     "output_type": "stream",
     "text": [
      "slot{\"lesson_progress\": 19080.426223754883}\n"
     ]
    }
   ],
   "source": [
    "print_float_slot(\"lesson_progress\", \"while driving down the street. what did he see\")"
   ]
  },
  {
   "cell_type": "code",
   "execution_count": 28,
   "metadata": {},
   "outputs": [
    {
     "name": "stdout",
     "output_type": "stream",
     "text": [
      "slot{\"lesson_progress\": 12524.900146484375}\n"
     ]
    }
   ],
   "source": [
    "print_float_slot(\"lesson_progress\", \"did she look beautiful\")"
   ]
  },
  {
   "cell_type": "code",
   "execution_count": null,
   "metadata": {},
   "outputs": [],
   "source": []
  }
 ],
 "metadata": {
  "kernelspec": {
   "display_name": "Python 3",
   "language": "python",
   "name": "python3"
  },
  "language_info": {
   "codemirror_mode": {
    "name": "ipython",
    "version": 3
   },
   "file_extension": ".py",
   "mimetype": "text/x-python",
   "name": "python",
   "nbconvert_exporter": "python",
   "pygments_lexer": "ipython3",
   "version": "3.7.5"
  }
 },
 "nbformat": 4,
 "nbformat_minor": 4
}
